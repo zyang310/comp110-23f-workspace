{
 "cells": [
  {
   "cell_type": "code",
   "execution_count": 15,
   "metadata": {},
   "outputs": [],
   "source": [
    "from node import Node"
   ]
  },
  {
   "cell_type": "markdown",
   "metadata": {},
   "source": [
    "# Instantiate our Nodes to Make a linked list!"
   ]
  },
  {
   "cell_type": "code",
   "execution_count": 16,
   "metadata": {},
   "outputs": [],
   "source": [
    "node_c: Node = Node(2, None) # base case\n",
    "node_b: Node = Node(1, node_c)\n",
    "node_a: Node = Node(0, node_b) # head of list"
   ]
  },
  {
   "cell_type": "markdown",
   "metadata": {},
   "source": [
    "# Testing out accessing attributes\n"
   ]
  },
  {
   "cell_type": "code",
   "execution_count": 17,
   "metadata": {},
   "outputs": [
    {
     "name": "stdout",
     "output_type": "stream",
     "text": [
      "2\n",
      "None\n"
     ]
    }
   ],
   "source": [
    "print(node_a.next.next.data)\n",
    "print(node_a.next.next.next)"
   ]
  },
  {
   "cell_type": "markdown",
   "metadata": {},
   "source": [
    "## Testing Out `__str__` method"
   ]
  },
  {
   "cell_type": "code",
   "execution_count": 18,
   "metadata": {},
   "outputs": [
    {
     "name": "stdout",
     "output_type": "stream",
     "text": [
      "0 -> 1 -> 2 -> None\n"
     ]
    }
   ],
   "source": [
    "print(node_a)"
   ]
  },
  {
   "cell_type": "markdown",
   "metadata": {},
   "source": [
    "# `head()` method\n",
    "\n",
    "## Part 0. \n",
    "\n",
    "You are going to create a method called `head()` with the following properties:\n",
    "\n",
    "* It takes no arguments (other than `self`)\n",
    "* It returns an `int`\n",
    "* Behavior: It should return the `data` attribute for the first element in the linked list\n"
   ]
  },
  {
   "cell_type": "code",
   "execution_count": 19,
   "metadata": {},
   "outputs": [
    {
     "name": "stdout",
     "output_type": "stream",
     "text": [
      "Actual:  None  - Expected: 0\n"
     ]
    }
   ],
   "source": [
    "print(\"Actual: \", node_a.head(), \" - Expected: 0\")"
   ]
  },
  {
   "cell_type": "markdown",
   "metadata": {},
   "source": [
    "# `tail()` method\n",
    "\n",
    "## Part 1. \n",
    "\n",
    "You are going to create a method called `tail()` with the following properties:\n",
    "\n",
    "* It takes no arguments (other than `self`)\n",
    "* It returns an `Node` object (or `None` if linked list is of length 1)\n",
    "* Behavior: It should return a linked list of every element minus the head."
   ]
  },
  {
   "cell_type": "code",
   "execution_count": 20,
   "metadata": {},
   "outputs": [
    {
     "name": "stdout",
     "output_type": "stream",
     "text": [
      "Actual:  None  - Expected: 1 -> 2 -> None\n",
      "Actual:  None  - Expected: None\n"
     ]
    }
   ],
   "source": [
    "print(\"Actual: \", node_a.tail(), \" - Expected: 1 -> 2 -> None\")\n",
    "print(\"Actual: \", node_c.tail(), \" - Expected: None\")"
   ]
  },
  {
   "cell_type": "markdown",
   "metadata": {},
   "source": [
    "# `list()` method\n",
    "\n",
    "## Part 2. \n",
    "\n",
    "You are going to create a method called `last()` with the following properties:\n",
    "\n",
    "* It takes no arguments (other than `self`)\n",
    "* It returns an `int` object\n",
    "* Behavior: It should return the `data` of the *last* element in the linked list. (Hint: Look at `__str__`!)"
   ]
  },
  {
   "cell_type": "code",
   "execution_count": 21,
   "metadata": {},
   "outputs": [
    {
     "name": "stdout",
     "output_type": "stream",
     "text": [
      "Actual:  None  - Expected: 2\n"
     ]
    }
   ],
   "source": [
    "print(\"Actual: \", node_a.last(), \" - Expected: 2\")"
   ]
  }
 ],
 "metadata": {
  "kernelspec": {
   "display_name": "Python 3",
   "language": "python",
   "name": "python3"
  },
  "language_info": {
   "codemirror_mode": {
    "name": "ipython",
    "version": 3
   },
   "file_extension": ".py",
   "mimetype": "text/x-python",
   "name": "python",
   "nbconvert_exporter": "python",
   "pygments_lexer": "ipython3",
   "version": "3.11.5"
  }
 },
 "nbformat": 4,
 "nbformat_minor": 2
}
